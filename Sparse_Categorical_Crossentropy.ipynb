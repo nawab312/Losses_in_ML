{
  "nbformat": 4,
  "nbformat_minor": 0,
  "metadata": {
    "colab": {
      "name": "Sparse Categorical Crossentropy.ipynb",
      "provenance": []
    },
    "kernelspec": {
      "name": "python3",
      "display_name": "Python 3"
    }
  },
  "cells": [
    {
      "cell_type": "markdown",
      "metadata": {
        "id": "N6XJ4NGP16MN"
      },
      "source": [
        "### TensorFlow Implementation"
      ]
    },
    {
      "cell_type": "markdown",
      "metadata": {
        "id": "TVAbUcflBkHC"
      },
      "source": [
        "Use this loss function when there are 2 or more than 2 label classes. Labels should be in one-hot represenaion. If there are c classes then there should be c floating point values per feature of y_pred and one floating point value per feature of y_true\r\n",
        "\r\n"
      ]
    },
    {
      "cell_type": "code",
      "metadata": {
        "id": "9tl0shs2N3rq"
      },
      "source": [
        "import tensorflow as tf\r\n",
        "'''\r\n",
        "tf.keras.losses.SparseCategoricalCrossentropy(\r\n",
        "  from_logits = False,\r\n",
        "  reduction = losses_utiles.ReductionV2.AUTO,\r\n",
        "  name = 'sparse_categorical_crossentropy'\r\n",
        ")\r\n",
        "'''"
      ],
      "execution_count": null,
      "outputs": []
    },
    {
      "cell_type": "code",
      "metadata": {
        "colab": {
          "base_uri": "https://localhost:8080/"
        },
        "id": "TdwAZVEO3OY8",
        "outputId": "fd7e43a9-b71a-4d48-f9f7-e7cddf48a3af"
      },
      "source": [
        "# Example\r\n",
        "y_true = [1,2] # [batch_size]\r\n",
        "y_pred = [[0.05, 0.95, 0], # [batch_size, num_classes]\r\n",
        "          [0.1, 0.8, 0.1]]\r\n",
        "scce = tf.keras.losses.SparseCategoricalCrossentropy()\r\n",
        "print(scce(y_true, y_pred))\r\n",
        "print(scce(y_true, y_pred).numpy())"
      ],
      "execution_count": 8,
      "outputs": [
        {
          "output_type": "stream",
          "text": [
            "tf.Tensor(1.1769392, shape=(), dtype=float32)\n",
            "1.1769392\n"
          ],
          "name": "stdout"
        }
      ]
    },
    {
      "cell_type": "code",
      "metadata": {
        "colab": {
          "base_uri": "https://localhost:8080/"
        },
        "id": "W9xUgMBe6x-T",
        "outputId": "9e45319b-7a84-423e-cdd7-6f5cb3bd4d6c"
      },
      "source": [
        "# With Sample Weight\r\n",
        "scce(y_true, y_pred,\r\n",
        "     sample_weight = tf.constant([0.3,0.7])).numpy()"
      ],
      "execution_count": 9,
      "outputs": [
        {
          "output_type": "execute_result",
          "data": {
            "text/plain": [
              "0.8135988"
            ]
          },
          "metadata": {
            "tags": []
          },
          "execution_count": 9
        }
      ]
    },
    {
      "cell_type": "code",
      "metadata": {
        "colab": {
          "base_uri": "https://localhost:8080/"
        },
        "id": "tqy2CF6R9gbs",
        "outputId": "f9192a51-e939-4d64-fa55-76dd3d2ae38f"
      },
      "source": [
        "# Using sum reduction type\r\n",
        "scce = tf.keras.losses.SparseCategoricalCrossentropy(\r\n",
        "    reduction = tf.keras.losses.Reduction.SUM\r\n",
        ")\r\n",
        "scce(y_true, y_pred).numpy()"
      ],
      "execution_count": 11,
      "outputs": [
        {
          "output_type": "execute_result",
          "data": {
            "text/plain": [
              "2.3538785"
            ]
          },
          "metadata": {
            "tags": []
          },
          "execution_count": 11
        }
      ]
    },
    {
      "cell_type": "code",
      "metadata": {
        "colab": {
          "base_uri": "https://localhost:8080/"
        },
        "id": "VWBvEvaq-Do9",
        "outputId": "6bc771a2-2436-437e-f187-26f24f70dbe6"
      },
      "source": [
        "# Using none reduction type\r\n",
        "scce = tf.keras.losses.SparseCategoricalCrossentropy(\r\n",
        "    reduction = tf.keras.losses.Reduction.NONE\r\n",
        ")\r\n",
        "scce(y_true, y_pred).numpy()"
      ],
      "execution_count": 12,
      "outputs": [
        {
          "output_type": "execute_result",
          "data": {
            "text/plain": [
              "array([0.05129344, 2.3025851 ], dtype=float32)"
            ]
          },
          "metadata": {
            "tags": []
          },
          "execution_count": 12
        }
      ]
    },
    {
      "cell_type": "code",
      "metadata": {
        "id": "CN4DG0Xy-kCL"
      },
      "source": [
        "# Using with compile() API:\r\n",
        "'''\r\n",
        "  model.compile(optimizer = 'sgd',\r\n",
        "                loss = tf.keras.losses.SparseCategoricalCrossentroyp())\r\n",
        "'''"
      ],
      "execution_count": null,
      "outputs": []
    },
    {
      "cell_type": "markdown",
      "metadata": {
        "id": "O57uDgyg_YO9"
      },
      "source": [
        "### tf.keras.losses.Reduction"
      ]
    },
    {
      "cell_type": "code",
      "metadata": {
        "id": "PgCo4dz0_JnO"
      },
      "source": [
        ""
      ],
      "execution_count": null,
      "outputs": []
    }
  ]
}